{
 "cells": [
  {
   "attachments": {},
   "cell_type": "markdown",
   "metadata": {},
   "source": [
    "# PANDAS PRACTICE\n",
    "@Dannelmlj \n"
   ]
  },
  {
   "attachments": {},
   "cell_type": "markdown",
   "metadata": {},
   "source": [
    "## Loading data into Pandas"
   ]
  },
  {
   "cell_type": "code",
   "execution_count": 4,
   "metadata": {},
   "outputs": [],
   "source": [
    "import pandas as pd\n",
    "\n",
    "df = pd.read_csv('RealMadrid_Data.csv')\n",
    "\n",
    "# print(df.head(4))"
   ]
  },
  {
   "attachments": {},
   "cell_type": "markdown",
   "metadata": {},
   "source": [
    "## Reading data"
   ]
  },
  {
   "cell_type": "code",
   "execution_count": 5,
   "metadata": {},
   "outputs": [
    {
     "name": "stdout",
     "output_type": "stream",
     "text": [
      "Index(['Match Gap', 'Month', 'Date', 'Date_Converted', 'MathType', 'Season',\n",
      "       'HomeAway', 'Team_Name', 'Team', 'TeamRanking', 'Home', 'Home_Ranking',\n",
      "       'Away', 'Away_Ranking', 'FinalScore', 'ScoreGoal', 'GetGoal', 'Results',\n",
      "       'PreScoreGoal', 'PrePreScoreGoal', 'PreGetGoal', 'PrePreGetGoal',\n",
      "       'Ramos_Position', 'RamosTime', 'RamosGoal', 'RamosAss'],\n",
      "      dtype='object')\n"
     ]
    }
   ],
   "source": [
    "# Read Headers\n",
    "print(df.columns)\n",
    "\n",
    "# Read each column\n",
    "print()"
   ]
  }
 ],
 "metadata": {
  "kernelspec": {
   "display_name": "Python 3",
   "language": "python",
   "name": "python3"
  },
  "language_info": {
   "codemirror_mode": {
    "name": "ipython",
    "version": 3
   },
   "file_extension": ".py",
   "mimetype": "text/x-python",
   "name": "python",
   "nbconvert_exporter": "python",
   "pygments_lexer": "ipython3",
   "version": "3.11.3"
  },
  "orig_nbformat": 4
 },
 "nbformat": 4,
 "nbformat_minor": 2
}
